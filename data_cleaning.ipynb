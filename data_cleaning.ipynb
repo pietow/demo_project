{
 "cells": [
  {
   "cell_type": "code",
   "execution_count": 172,
   "metadata": {
    "tags": []
   },
   "outputs": [],
   "source": [
    "import pandas as pd\n",
    "import re\n",
    "\n",
    "data = pd.read_csv(\"bmw.csv\")\n",
    "df_dealer = data.Dlodealer\n",
    "df_dealer\n",
    "\n",
    "def get_index_street(list_, str_, i):\n",
    "    #str_ = 'Straße'\n",
    "    if str_ in new:\n",
    "        index = list_.index(str_)\n",
    "        #print(i,index, list_[index])\n",
    "        return (i, list_[index])\n",
    "\n",
    "def get_index_street_first(list_, str_, i):\n",
    "    tuple_ = [(i, word) for i, word in enumerate(list_) if str_ in word and word!='Autohaus' and word!='Oberhausen' and word!='Langenfeld' and word!='Holsterhauser' and word!='Recklinghausen' and word!='Eichenhofer']\n",
    "    if tuple_:\n",
    "        #print(i, tuple_)\n",
    "        return (i, list_[:tuple_[0][0]])\n",
    "\n",
    "name_list = []\n",
    "plz_list = []\n",
    "ort_list = []  \n",
    "r = re.compile(\"\\d{5}\")\n",
    "for i, value in df_dealer.iteritems():\n",
    "    new = value.split(' ')\n",
    "    slice_ = new.index('\\n')\n",
    "    name_list.append(' '.join(new[:slice_]))\n",
    "    plz_list.append(list(filter(r.match, new))[0])\n",
    "    ort_list.append(new[-6])\n",
    "    \n",
    "dict_dealer = {'Autohaus': name_list, 'PLZ': plz_list}\n",
    "#list(filter(None, i_list)) \n",
    "df_dealer = pd.DataFrame(dict_dealer)\n",
    "df_dealer.to_csv('clean_bmw.csv', index=False)"
   ]
  },
  {
   "cell_type": "code",
   "execution_count": null,
   "metadata": {},
   "outputs": [],
   "source": []
  }
 ],
 "metadata": {
  "language_info": {
   "codemirror_mode": {
    "name": "ipython",
    "version": 3
   },
   "file_extension": ".py",
   "mimetype": "text/x-python",
   "name": "python",
   "nbconvert_exporter": "python",
   "pygments_lexer": "ipython3",
   "version": "3.8.3-final"
  },
  "orig_nbformat": 2,
  "kernelspec": {
   "name": "python38364bitwebscrapervirtualenvc107d10433574bfc840cff1d6b7bb8da",
   "display_name": "Python 3.8.3 64-bit ('webscraper': virtualenv)"
  }
 },
 "nbformat": 4,
 "nbformat_minor": 2
}