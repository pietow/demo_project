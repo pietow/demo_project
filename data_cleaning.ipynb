{
 "cells": [
  {
   "cell_type": "code",
   "execution_count": 62,
   "metadata": {
    "tags": []
   },
   "outputs": [
    {
     "output_type": "stream",
     "name": "stdout",
     "text": "Iserlohn 58636 ['Procar', 'Automobile', 'GmbH']\nMenden 58706 ['Procar', 'Automobile', 'GmbH', 'Werler']\nHagen 58119 ['Procar', 'Automobile', 'GmbH', 'Elseyer']\nUnna 59425 ['Procar', 'Automobile', 'GmbH']\nDortmund 44263 ['BMW', 'AG', 'Niederlassung', 'Dortmund']\nWerdohl 58791 ['Kaltenbach', 'Automobile', 'GmbH']\nLünen 44534 ['Autohaus', 'Erwin', 'Schmidt', 'GmbH', '&', 'Co.', 'KG', 'Cappenberger', 'Str.']\nWitten 58455 ['Auto-Zentrum', 'Bernhard', 'Ernst', 'GmbH', '&', 'Co.', 'KG']\nLüdenscheid 58509 ['Autohaus', 'Kaltenbach', 'GmbH', '&', 'Co.', 'KG', 'Kölner']\nArnsberg 59823 ['Autohaus', 'Kaltenbach', 'GmbH']\nSundern 59846 ['Autohaus', 'Lange', 'GmbH', '&', 'Co.', 'KG', 'Hauptstr.']\nWerne 59368 ['Autohaus', 'Erwin', 'Schmidt', 'GmbH', '&', 'Co.', 'KG']\nCastrop-Rauxel 44579 ['Procar', 'Automobile', 'GmbH']\nSprockhövel 45549 ['Procar', 'Automobile', 'GmbH', 'Eichenhofer']\nHamm 59071 ['Autohaus', 'Erwin', 'Schmidt', 'GmbH', '&', 'Co.', 'KG']\nSchwelm 58332 ['Autohaus', 'Schneider', 'GmbH', '&', 'Co.', 'KG', 'Wörther']\nBochum 44795 ['AHAG', 'Bochum', 'GmbH', 'Hattinger', 'Straße']\nBochum 44809 ['AHAG', 'Bochum', 'GmbH']\nHerne 44625 ['Procar', 'Automobile', 'GmbH', 'Holsterhauser']\nSoest 59494 ['Autohaus', 'Erwin', 'Schmidt', 'GmbH', '&', 'Co.', 'KG', 'Arnsberger']\nBochum 44866 ['Autohaus', 'Gubin', 'GmbH']\nMeinerzhagen 58540 ['AKG', 'Automobile', 'GmbH']\nWuppertal 42109 ['Heiko', 'Emde', 'GmbH']\nRecklinghausen 45659 ['Vogelsang', 'Automobile', 'GmbH', '&', 'Co.', 'KG']\nRemscheid 42897 ['Autohaus', 'Kaltenbach', 'GmbH', '&', 'Co.', 'KG', 'Borner']\nWipperfürth 51688 ['Autohaus', 'Kaltenbach', 'GmbH', '&', 'Co.', 'KG', 'Obergraben']\nLüdinghausen 59348 ['Procar', 'Automobile', 'Münsterland', 'GmbH']\nAhlen 59227 ['Procar', 'Automobile', 'Münsterland', 'GmbH', 'Kruppstr.']\nWuppertal 42117 ['Procar', 'Automobile', 'GmbH']\nEssen 45134 ['Ernst', '&', 'Lappe', 'GmbH', 'St.']\nGelsenkirchen 45897 ['AHAG', 'Automobil-Handelsges.', 'Egon', 'Gladen', 'GmbH', '&', 'Co.', 'KG']\nVelbert 42549 ['Procar', 'Automobile', 'GmbH']\nMarl 45770 ['AHAG', 'Automobil-Handelsges.', 'Egon', 'Gladen', 'GmbH', '&', 'Co.', 'KG', 'Herzlia']\nBeckum 59269 ['L', '+', 'K', 'Hackelbörger', 'GmbH']\nEssen 45141 ['BMW', 'AG', 'Niederlassung', 'Essen']\nLennestadt 57368 ['Autohaus', 'Kaltenbach', 'GmbH', '&', 'Co.', 'KG']\nSee am ['Engelmeier', 'GmbH', '&', 'Co.KG', 'Recklinghäuser', 'Str.', '54a']\nOlpe 57462 ['Kaltenbach', 'Automobile', 'GmbH', '&', 'Co.', 'KG', 'Im', 'Langen']\nWermelskirchen 42929 ['Autohaus', 'Kaltenbach', 'GmbH', '&', 'Co.', 'KG']\nSolingen 42719 ['Procar', 'Automobile', 'GmbH', 'Frankfurter']\nRuhr der ['Götze', '&', 'Gellermann', 'GmbH', 'Alexanderstr.', '1', '45472']\nDülmen 48249 ['AHAG', 'Dülmen', 'GmbH', 'Dammweg', '1']\nBottrop 46236 ['Felix', 'Automobile', 'GmbH', 'Gladbecker']\nWiehl 51674 ['Autohaus', 'Kaltenbach', 'GmbH', '&', 'Co.', 'KG']\nDorsten 46282 ['AHAG', 'Dorsten', 'GmbH', '&', 'Co.', 'KG', 'Zum', 'Alten']\nMettmann 40822 ['Hans', 'Brandenburg', 'GmbH']\nMünster 48163 ['Procar', 'Automobile', 'Münsterland', 'GmbH', 'Weseler']\nLippstadt 59557 ['Autohaus', 'Walter', 'Ritzel', 'GmbH', '&', 'Co.', 'KG']\nOberhausen 46117 ['Autohaus', 'Kruft', 'GmbH']\nHilden 40724 ['Martin', 'Jacoby', 'GmbH', '&', 'Co.', 'KG', 'Walder']\nRuhr der ['Philipp', 'Automobile', 'GmbH', 'Ruhrorter', 'Str.', '53', '45478']\nOverath 51491 ['Kaltenbach', 'Automobile', 'GmbH', '&', 'Co.', 'KG']\nNottuln 48301 ['Autohaus', 'Rump', 'GmbH', 'Appelhülsener']\nOberhausen 46149 ['Autohaus', 'Muhra', 'GmbH', 'Im']\nHilden 40721 ['Hans', 'Brandenburg', 'GmbH', 'Düsseldorfer']\nLangenfeld 40764 ['Proauto', 'GmbH']\nDüsseldorf 40472 ['BMW', 'AG', 'Niederlassung', 'Düsseldorf', 'Filiale', 'Rath']\nDüsseldorf 40595 ['Hans', 'Brandenburg', 'GmbH']\nDüsseldorf 40237 ['BMW', 'AG', 'Niederlassung', 'Düsseldorf', 'Grafenberger']\nDuisburg 47053 ['Cloppenburg', 'GmbH']\n"
    }
   ],
   "source": [
    "import pandas as pd \n",
    "\n",
    "data = pd.read_csv('bmw.csv')\n",
    "df_dealer = data.Dlodealer\n",
    "#df_dealer = df_dealer.str.pop('\\n')\n",
    "df_dealer = df_dealer.str.split(' ')\n",
    "\n",
    "for i, value in df_dealer.iteritems():\n",
    "    new = [v for v in value if v != '\\n']\n",
    "    print(new[:-2].pop(), new[:-3].pop(), new[:-6])"
   ]
  },
  {
   "cell_type": "code",
   "execution_count": null,
   "metadata": {},
   "outputs": [],
   "source": []
  }
 ],
 "metadata": {
  "language_info": {
   "codemirror_mode": {
    "name": "ipython",
    "version": 3
   },
   "file_extension": ".py",
   "mimetype": "text/x-python",
   "name": "python",
   "nbconvert_exporter": "python",
   "pygments_lexer": "ipython3",
   "version": "3.8.3-final"
  },
  "orig_nbformat": 2,
  "kernelspec": {
   "name": "python38364bitwebscrapervirtualenvc107d10433574bfc840cff1d6b7bb8da",
   "display_name": "Python 3.8.3 64-bit ('webscraper': virtualenv)"
  }
 },
 "nbformat": 4,
 "nbformat_minor": 2
}